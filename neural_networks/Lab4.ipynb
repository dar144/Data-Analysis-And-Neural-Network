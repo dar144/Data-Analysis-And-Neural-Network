{
  "cells": [
    {
      "cell_type": "code",
      "execution_count": null,
      "id": "61c19307",
      "metadata": {
        "id": "61c19307"
      },
      "outputs": [],
      "source": [
        "# Plik advertising.csv zawiera w każdym rzędzie informację na temat wydatków na reklamę telewizyjną, \n",
        "# radiowa i prasową dla pojedynczego produktu oraz zyski z jego sprzedaży. \n",
        "# Można przedstawić zyski jako funkcję  𝑍(𝑤𝑇𝑉,𝑤𝑟𝑎𝑑𝑖𝑜,𝑤𝑝𝑟𝑎𝑠𝑎). \n",
        "# Proszę zaproponować architrekturę sieci neuronowej, która dokona aproksymacji tej funkcji\n",
        "# i dokonać ewaluacji tej sieci. Proszę porównać wyniki dla przynajmniej dwóch różnych struktur\n",
        "# jeżeli chodzi o liczbę neuronów i dla dwóch różnych funkcji aktywacji (najlepiej relu i tanh).\n",
        "# Proszę pamiętać o podzieleniu zbioru na dane uczące i testujące."
      ]
    },
    {
      "cell_type": "code",
      "execution_count": null,
      "id": "8e8aa845",
      "metadata": {
        "scrolled": true,
        "id": "8e8aa845"
      },
      "outputs": [],
      "source": [
        "import csv\n",
        "import numpy as np\n",
        "\n",
        "file = open(\"Advertising.csv\", \"r\")\n",
        "lines = list(csv.reader(file, delimiter=\",\"))\n",
        "file.close()\n",
        "\n",
        "lines = lines[1:]\n",
        "data = np.array([[float(i) for i in line]for line in lines])\n",
        "data = data[:, 1:]\n",
        "# print(data)"
      ]
    },
    {
      "cell_type": "code",
      "execution_count": null,
      "id": "733f711c",
      "metadata": {
        "id": "733f711c"
      },
      "outputs": [],
      "source": [
        "data_norm = np.empty([len(data), len(data[0])])\n",
        "for i in range(len(data[0])):\n",
        "    data_norm[:,i] = np.array(data[:,i] / max(data[:,i]))"
      ]
    },
    {
      "cell_type": "code",
      "execution_count": null,
      "id": "3694d508",
      "metadata": {
        "id": "3694d508"
      },
      "outputs": [],
      "source": [
        "from sklearn.model_selection import train_test_split\n",
        "\n",
        "x_train, x_test, y_train, y_test = train_test_split(data_norm[:,:3], data_norm[:,-1], test_size=0.2)"
      ]
    },
    {
      "cell_type": "code",
      "execution_count": null,
      "id": "1201f546",
      "metadata": {
        "colab": {
          "base_uri": "https://localhost:8080/"
        },
        "id": "1201f546",
        "outputId": "ff461e57-445b-43fe-bed2-a93c2178d4c1"
      },
      "outputs": [
        {
          "output_type": "stream",
          "name": "stdout",
          "text": [
            "----------------------- (110, 110, 110) relu -----------------------\n",
            "train: 0.7927176241243223\n",
            "test: 0.755732519946682\n"
          ]
        }
      ],
      "source": [
        "from sklearn.neural_network import MLPRegressor\n",
        "\n",
        "\n",
        "print(\"----------------------- (110, 110, 110) relu -----------------------\")\n",
        "\n",
        "network1 = MLPRegressor(solver='adam',hidden_layer_sizes=(110, 110, 110), max_iter = 1000, tol = 0.001, activation = 'relu')\n",
        "\n",
        "network1.fit(x_train, y_train)\n",
        "print(\"train: \"+str(network1.score(x_train, y_train)))\n",
        "print(\"test: \"+str(network1.score(x_test, y_test)))"
      ]
    },
    {
      "cell_type": "code",
      "source": [
        "print(\"----------------------- (110, 110, 110) tanh -----------------------\")\n",
        "\n",
        "network3 = MLPRegressor(solver='adam',hidden_layer_sizes=(110, 110, 110), max_iter = 1000, tol = 0.001, activation = 'tanh')\n",
        "\n",
        "network3.fit(x_train, y_train)\n",
        "print(\"train: \"+str(network3.score(x_train, y_train)))\n",
        "print(\"test: \"+str(network3.score(x_test, y_test)))"
      ],
      "metadata": {
        "colab": {
          "base_uri": "https://localhost:8080/"
        },
        "id": "vHwI_yX-Zq4U",
        "outputId": "204b781b-7680-44d8-d4ff-dc47aebf6937"
      },
      "id": "vHwI_yX-Zq4U",
      "execution_count": null,
      "outputs": [
        {
          "output_type": "stream",
          "name": "stdout",
          "text": [
            "----------------------- (110, 110, 110) tanh -----------------------\n",
            "train: 0.5497307663808035\n",
            "test: 0.4598228368505737\n"
          ]
        }
      ]
    },
    {
      "cell_type": "markdown",
      "source": [
        "W większości przypadków relu ma lepsze wykini niż tanh"
      ],
      "metadata": {
        "id": "1MDmrqWQqxDA"
      },
      "id": "1MDmrqWQqxDA"
    },
    {
      "cell_type": "code",
      "source": [
        "print(\"----------------------- (150, 150) relu -----------------------\")\n",
        "\n",
        "network4 = MLPRegressor(solver='adam',hidden_layer_sizes=(150, 150), max_iter = 1000, tol = 0.001, activation = 'relu')\n",
        "\n",
        "network4.fit(x_train, y_train)\n",
        "print(\"train: \"+str(network4.score(x_train, y_train)))\n",
        "print(\"test: \"+str(network4.score(x_test, y_test)))"
      ],
      "metadata": {
        "colab": {
          "base_uri": "https://localhost:8080/"
        },
        "id": "TNYQyh5LWIFH",
        "outputId": "64d69492-1df4-465d-ace5-721f8d0b1fb5"
      },
      "id": "TNYQyh5LWIFH",
      "execution_count": null,
      "outputs": [
        {
          "output_type": "stream",
          "name": "stdout",
          "text": [
            "----------------------- (150, 150) relu -----------------------\n",
            "train: 0.6317669356049853\n",
            "test: 0.488838538525167\n"
          ]
        }
      ]
    },
    {
      "cell_type": "code",
      "source": [
        "print(\"----------------------- (10, 10, 10, 10) relu -----------------------\")\n",
        "\n",
        "network4 = MLPRegressor(solver='adam',hidden_layer_sizes=(10, 10, 10, 10), max_iter = 1000, tol = 0.001, activation = 'relu')\n",
        "\n",
        "network4.fit(x_train, y_train)\n",
        "print(\"train: \"+str(network4.score(x_train, y_train)))\n",
        "print(\"test: \"+str(network4.score(x_test, y_test)))"
      ],
      "metadata": {
        "colab": {
          "base_uri": "https://localhost:8080/"
        },
        "id": "q4nhtDoHrEyL",
        "outputId": "57e2aa69-3f1e-48cf-d3f6-faf2cef07aeb"
      },
      "id": "q4nhtDoHrEyL",
      "execution_count": null,
      "outputs": [
        {
          "output_type": "stream",
          "name": "stdout",
          "text": [
            "----------------------- (10, 10, 10, 10) relu -----------------------\n",
            "train: -0.04083956560700197\n",
            "test: -0.1680145668665738\n"
          ]
        }
      ]
    },
    {
      "cell_type": "code",
      "execution_count": null,
      "id": "0027d8e9",
      "metadata": {
        "id": "0027d8e9"
      },
      "outputs": [],
      "source": [
        "# Proszę zaproponować jak najmniejszą sieć (najlepiej z jedną warstwą ukrytą) do aproksymacji funkcji \n",
        "# 𝑓(𝑥)=𝑠𝑖𝑛(𝑥) w przedziale  [−2𝜋,2𝜋]. Proszę użyć  𝑡𝑎𝑛ℎ\n",
        "# jako funkcji aktywacji. Proszę narysować funkcję aproksymowaną i aproksymującą. \n",
        "# Wykorzystując dostęp do wag i biasów (network.coefs_ i network.intercepts_) proszę zapisać \n",
        "# wzór funkcji aproksymującej."
      ]
    },
    {
      "cell_type": "code",
      "execution_count": null,
      "id": "41bec429",
      "metadata": {
        "id": "41bec429",
        "outputId": "b911d50a-1510-4b3d-d2af-b1969af3bdf0",
        "colab": {
          "base_uri": "https://localhost:8080/",
          "height": 283
        }
      },
      "outputs": [
        {
          "output_type": "execute_result",
          "data": {
            "text/plain": [
              "[<matplotlib.lines.Line2D at 0x7f7a6b7cd850>]"
            ]
          },
          "metadata": {},
          "execution_count": 85
        },
        {
          "output_type": "display_data",
          "data": {
            "text/plain": [
              "<Figure size 432x288 with 1 Axes>"
            ],
            "image/png": "[encoded data removed]"
          },
          "metadata": {
            "needs_background": "light"
          }
        }
      ],
      "source": [
        "import math\n",
        "import matplotlib.pyplot as plt\n",
        "\n",
        "x = np.arange(-2*math.pi, 2*math.pi, 0.05)\n",
        "y = np.sin(x)\n",
        "\n",
        "plt.plot(x,y)"
      ]
    },
    {
      "cell_type": "code",
      "execution_count": null,
      "id": "30e4ff9b",
      "metadata": {
        "id": "30e4ff9b",
        "outputId": "3f476e39-6470-4bc6-9747-290f9105521a",
        "colab": {
          "base_uri": "https://localhost:8080/"
        }
      },
      "outputs": [
        {
          "output_type": "stream",
          "name": "stdout",
          "text": [
            "0.8097354902403293\n"
          ]
        }
      ],
      "source": [
        "# x_train, x_test, y_train, y_test = train_test_split(x.reshape(-1,1),y)\n",
        "x_matrix = x.reshape(-1,1)\n",
        "\n",
        "network2 = MLPRegressor(solver='adam',hidden_layer_sizes=(7), max_iter = 1000, tol = 0.0001, activation = 'tanh')\n",
        "\n",
        "network2.fit(x_matrix, y)\n",
        "print(network2.score(x_matrix, y))"
      ]
    },
    {
      "cell_type": "code",
      "execution_count": null,
      "id": "20ee48ea",
      "metadata": {
        "id": "20ee48ea",
        "outputId": "d4220344-3026-4072-fb33-f1fbaa7da388",
        "colab": {
          "base_uri": "https://localhost:8080/",
          "height": 265
        }
      },
      "outputs": [
        {
          "output_type": "display_data",
          "data": {
            "text/plain": [
              "<Figure size 432x288 with 1 Axes>"
            ],
            "image/png": "[encoded data removed]"
          },
          "metadata": {
            "needs_background": "light"
          }
        }
      ],
      "source": [
        "y_pred = network2.predict(x_matrix)\n",
        "\n",
        "plt.plot(x,y,'b')\n",
        "plt.plot(x,y_pred,'r')\n",
        "plt.show()"
      ]
    },
    {
      "cell_type": "code",
      "execution_count": null,
      "id": "3046457a",
      "metadata": {
        "id": "3046457a",
        "outputId": "11e2c418-5548-4862-8846-44ad6f706f6f",
        "colab": {
          "base_uri": "https://localhost:8080/"
        }
      },
      "outputs": [
        {
          "output_type": "stream",
          "name": "stdout",
          "text": [
            "[array([[-0.46766801, -0.55745717,  0.23740007,  1.29404246,  1.01660698,\n",
            "        -0.35636137, -0.6692418 ]]), array([[ 0.32639164],\n",
            "       [ 0.74516493],\n",
            "       [-0.42429239],\n",
            "       [ 0.70294647],\n",
            "       [ 0.47431018],\n",
            "       [ 0.92492447],\n",
            "       [-0.36939932]])]\n",
            "[array([ 1.09552237, -1.46605962, -0.14320959, -0.1407411 , -0.04812494,\n",
            "        0.7582902 ,  0.09010268]), array([-0.12867944])]\n"
          ]
        }
      ],
      "source": [
        "print(network2.coefs_)\n",
        "print(network2.intercepts_)"
      ]
    },
    {
      "cell_type": "code",
      "source": [
        "x_sample = x[0]\n",
        "y_sample = y[0]\n",
        "\n",
        "w = network2.coefs_\n",
        "b = network2.intercepts_\n",
        "\n",
        "hidden_layer_values = np.tanh(x_sample * w[0]) + b[0]\n",
        "\n",
        "y_sample_pred = np.tanh(np.dot(hidden_layer_values, w[1])) + b[1]\n",
        "print(y_sample_pred)\n",
        "print(y_pred[0])"
      ],
      "metadata": {
        "colab": {
          "base_uri": "https://localhost:8080/"
        },
        "id": "N8_Ve1rdG7q5",
        "outputId": "fd17a625-36b0-4431-d61b-862bc70fe3da"
      },
      "id": "N8_Ve1rdG7q5",
      "execution_count": null,
      "outputs": [
        {
          "output_type": "stream",
          "name": "stdout",
          "text": [
            "[[0.46390721]]\n",
            "0.6847472734901058\n"
          ]
        }
      ]
    },
    {
      "cell_type": "code",
      "execution_count": null,
      "id": "f5df542f",
      "metadata": {
        "id": "f5df542f"
      },
      "outputs": [],
      "source": [
        "# Proszę pobrać zbiór california housing \n",
        "# (można go załadować w sklearnie dzięki funkcji fetch_california_housing( ), \n",
        "# jest też dostępny w colabie jako przykładowy plik testowy). \n",
        "\n",
        "# Zawiera nieznormalizowane dane dotyczące bloków mieszkalnych w Kaliforni zebranych w 1990 roku,\n",
        "# takie jak lokacja geograficzna, wiek, całkowita liczba mieszkańców bloku, znajdujących się\n",
        "# w nim mieszkań i sypialni, oraz mediana dochodów tych mieszkańców. W ostatniej kolumnie znajduje\n",
        "# się mediana wartości mieszkania w tym bloku. \n",
        "\n",
        "# Proszę znormalizować dane, a następnie \n",
        "# zaproponować kilka wielowarstowych sieci neuronowych i ocenić jak dobrze dokonają \n",
        "# aproksymacji funkcji mediany wartości mieszkań za pomocą opisanych dzisiaj metryk. \n",
        "# Proszę spróbować osiągnąć jak najlepszy wynik (jak najwyższe  𝑅2). \n",
        "# Wyniki oczywiście proszę sprawdzać na danych testujących."
      ]
    },
    {
      "cell_type": "code",
      "source": [
        "import numpy as np\n",
        "from sklearn.datasets import fetch_california_housing\n",
        "\n",
        "california = fetch_california_housing()\n",
        "\n",
        "x = np.array(california.data)\n",
        "y = np.array(california.target)"
      ],
      "metadata": {
        "id": "hKUVNTfZbqM7"
      },
      "id": "hKUVNTfZbqM7",
      "execution_count": null,
      "outputs": []
    },
    {
      "cell_type": "code",
      "source": [
        "x_norm = np.empty([len(x), len(x[0])])\n",
        "for i in range(len(x[0])):\n",
        "    x_norm[:,i] = np.array(x[:,i] / max(x[:,i]))\n",
        "y_norm = y / max(y)"
      ],
      "metadata": {
        "id": "qUfDRrcWb0mU"
      },
      "id": "qUfDRrcWb0mU",
      "execution_count": null,
      "outputs": []
    },
    {
      "cell_type": "code",
      "source": [
        "from sklearn.model_selection import train_test_split\n",
        "x_train, x_test, y_train, y_test = train_test_split(x_norm, y_norm, test_size=0.2)"
      ],
      "metadata": {
        "id": "s7tgjzI6b2dl"
      },
      "id": "s7tgjzI6b2dl",
      "execution_count": null,
      "outputs": []
    },
    {
      "cell_type": "code",
      "source": [
        "\n",
        "from sklearn.neural_network import MLPRegressor\n",
        "network10 = MLPRegressor(solver='adam',hidden_layer_sizes=(100, 100), max_iter = 1000, tol = 0.0001, activation = 'relu')\n",
        "network10.fit(x_train, y_train)\n",
        "print(network10.score(x_train, y_train))\n",
        "print(network10.score(x_test, y_test))"
      ],
      "metadata": {
        "colab": {
          "base_uri": "https://localhost:8080/"
        },
        "id": "bvJH4Jf0b7hW",
        "outputId": "fa79718a-bee0-422c-ecb8-d4ac884054c6"
      },
      "id": "bvJH4Jf0b7hW",
      "execution_count": null,
      "outputs": [
        {
          "output_type": "stream",
          "name": "stdout",
          "text": [
            "0.7117883696727871\n",
            "0.7161884464755615\n"
          ]
        }
      ]
    },
    {
      "cell_type": "code",
      "source": [
        "network11 = MLPRegressor(solver='adam',hidden_layer_sizes=(40, 40, 40), max_iter = 1000, tol = 0.0001, activation = 'relu')\n",
        "network11.fit(x_train, y_train)\n",
        "print(network11.score(x_train, y_train))\n",
        "print(network11.score(x_test, y_test))"
      ],
      "metadata": {
        "colab": {
          "base_uri": "https://localhost:8080/"
        },
        "id": "_zdRx7XbdG7J",
        "outputId": "e4c84ed3-16ff-40ab-a957-9adbec7c911a"
      },
      "id": "_zdRx7XbdG7J",
      "execution_count": null,
      "outputs": [
        {
          "output_type": "stream",
          "name": "stdout",
          "text": [
            "0.6771447339894605\n",
            "0.68626459313944\n"
          ]
        }
      ]
    },
    {
      "cell_type": "code",
      "source": [
        "network12 = MLPRegressor(solver='adam',hidden_layer_sizes=(80, 80, 80, 80), max_iter = 1000, tol = 0.0001, activation = 'relu')\n",
        "network12.fit(x_train, y_train)\n",
        "print(network12.score(x_train, y_train))\n",
        "print(network12.score(x_test, y_test))"
      ],
      "metadata": {
        "colab": {
          "base_uri": "https://localhost:8080/"
        },
        "id": "k2_KXQrndaOb",
        "outputId": "1cb506f2-7ade-4b6c-a065-f541b67f02fd"
      },
      "id": "k2_KXQrndaOb",
      "execution_count": null,
      "outputs": [
        {
          "output_type": "stream",
          "name": "stdout",
          "text": [
            "0.6434851273375336\n",
            "0.6521735033691594\n"
          ]
        }
      ]
    },
    {
      "cell_type": "code",
      "source": [
        "network13 = MLPRegressor(solver='adam',hidden_layer_sizes=(250, 250, 250, 250, 250), max_iter = 1000, tol = 0.0001, activation = 'relu')\n",
        "network13.fit(x_train, y_train)\n",
        "print(network13.score(x_train, y_train))\n",
        "print(network13.score(x_test, y_test))"
      ],
      "metadata": {
        "colab": {
          "base_uri": "https://localhost:8080/"
        },
        "id": "jmdv-QbKdnuL",
        "outputId": "065f86b5-4af9-42a7-98ee-1d9de4e09573"
      },
      "id": "jmdv-QbKdnuL",
      "execution_count": null,
      "outputs": [
        {
          "output_type": "stream",
          "name": "stdout",
          "text": [
            "0.7263525441687055\n",
            "0.7304854590987925\n"
          ]
        }
      ]
    },
    {
      "cell_type": "code",
      "source": [
        "network14 = MLPRegressor(solver='adam',hidden_layer_sizes=(5), max_iter = 1000, tol = 0.0001, activation = 'relu')\n",
        "network14.fit(x_train, y_train)\n",
        "print(network14.score(x_train, y_train))\n",
        "print(network14.score(x_test, y_test))"
      ],
      "metadata": {
        "colab": {
          "base_uri": "https://localhost:8080/"
        },
        "id": "p0BD9k2XuCAm",
        "outputId": "d864b632-5c70-4834-90e2-0f84f1ec9dd6"
      },
      "id": "p0BD9k2XuCAm",
      "execution_count": null,
      "outputs": [
        {
          "output_type": "stream",
          "name": "stdout",
          "text": [
            "0.4972945772891276\n",
            "0.5279189421661414\n"
          ]
        }
      ]
    },
    {
      "cell_type": "code",
      "execution_count": null,
      "id": "605273e6",
      "metadata": {
        "id": "605273e6"
      },
      "outputs": [],
      "source": [
        "# Proszę, bazując na powyższym zbiorze danych, dla wybranych struktur sieci \n",
        "# (np. najlepszej otrzymanej sieci), wykonać wykresy zależności ilości wykonanych\n",
        "# przez sieć epok oraz uzyskanych metryk. Uzyskany wynik należy odpowiednio opisać\n",
        "# oraz odnieść do dotychczasowych zagadnień poruszanych na zajęciach."
      ]
    },
    {
      "cell_type": "code",
      "source": [
        "network11.n_iter_"
      ],
      "metadata": {
        "colab": {
          "base_uri": "https://localhost:8080/"
        },
        "id": "Fj_GVLICBQ2g",
        "outputId": "4f1a53c3-7779-4b38-db42-b8410a81ec0f"
      },
      "id": "Fj_GVLICBQ2g",
      "execution_count": null,
      "outputs": [
        {
          "output_type": "execute_result",
          "data": {
            "text/plain": [
              "83"
            ]
          },
          "metadata": {},
          "execution_count": 100
        }
      ]
    },
    {
      "cell_type": "code",
      "source": [
        "print(network11.loss_curve_)"
      ],
      "metadata": {
        "colab": {
          "base_uri": "https://localhost:8080/"
        },
        "id": "5M7cTS3ZDF-h",
        "outputId": "7292a108-ba88-4e00-e36c-923d083fd5ab"
      },
      "id": "5M7cTS3ZDF-h",
      "execution_count": null,
      "outputs": [
        {
          "output_type": "stream",
          "name": "stdout",
          "text": [
            "[0.016179455696790454, 0.012466377547903848, 0.012370860010133235, 0.012135177591726838, 0.012197055110555006, 0.01195521713984283, 0.0120271732226813, 0.011887191662797073, 0.011810265826564411, 0.011803804154483207, 0.011872284683407314, 0.011736588000589526, 0.011697159899724618, 0.0115934801535571, 0.011641629622316896, 0.011613400304156295, 0.011362610270782392, 0.011450612146103408, 0.011333022657158387, 0.011245539565968899, 0.01119420542685526, 0.011189564624702317, 0.011095293876816686, 0.011085513674203365, 0.011014531083438386, 0.010788855982274503, 0.0107783743786022, 0.010617541777325748, 0.010628730024995902, 0.01049621636403876, 0.01041332969670029, 0.010248932892261623, 0.010095119604165538, 0.010130761131023198, 0.010137071891830676, 0.009987433350911588, 0.010028219049054585, 0.009723688800188477, 0.009577421229697925, 0.00978999667110942, 0.009665309974525305, 0.009530778798229719, 0.009499362698607622, 0.009416166085892172, 0.009668902502052388, 0.009248080709142422, 0.009211282650769823, 0.009514133616907403, 0.00927403865154858, 0.009307090662614783, 0.0093559423739659, 0.009467482744097682, 0.009156189671876808, 0.008987258640959193, 0.008932232378662154, 0.008806677580421828, 0.008887475601412691, 0.008782302631687383, 0.00881616133568442, 0.008829073958257643, 0.008832430578254172, 0.008811929058510649, 0.008621768212104584, 0.00859257401852626, 0.008647933634523727, 0.008697741280422217, 0.008662232609518018, 0.008410451188890705, 0.008389182220763639, 0.00844833808184106, 0.008564596341527357, 0.008189981306412596, 0.008379819528450698, 0.008280358814045766, 0.00841710649769587, 0.008221519503722465, 0.00829642622847654, 0.00829083814057189, 0.00809276855008672, 0.008240164363206876, 0.008329848859706588, 0.008185688210852854, 0.008169545204870295]\n"
          ]
        }
      ]
    },
    {
      "cell_type": "code",
      "source": [
        "import matplotlib.pyplot as plt\n",
        "import numpy as np\n",
        "\n",
        "plt.plot(np.arange(network11.n_iter_), network11.loss_curve_)\n",
        "plt.show()"
      ],
      "metadata": {
        "colab": {
          "base_uri": "https://localhost:8080/",
          "height": 265
        },
        "id": "_kzy9SzlDmyB",
        "outputId": "30eb5034-e312-4b00-ae56-6cb8b0275ecc"
      },
      "id": "_kzy9SzlDmyB",
      "execution_count": null,
      "outputs": [
        {
          "output_type": "display_data",
          "data": {
            "text/plain": [
              "<Figure size 432x288 with 1 Axes>"
            ],
            "image/png": "[encoded data removed]"
          },
          "metadata": {
            "needs_background": "light"
          }
        }
      ]
    },
    {
      "cell_type": "code",
      "execution_count": null,
      "id": "f658034f",
      "metadata": {
        "id": "f658034f"
      },
      "outputs": [],
      "source": [
        "# Proszę sprawdzić wyniki regresji dla zbioru california housing dla różnych podziałów\n",
        "# na dane uczące i testujące (dla co najmniej pięciu podziałów 20-80, 35-65, 50-50, 65-35, 80-20)\n",
        "# i wyciągnąć wnioski."
      ]
    },
    {
      "cell_type": "code",
      "source": [
        "print(\"--------------- 20-80 ---------------\")\n",
        "x_train, x_test, y_train, y_test = train_test_split(x_norm, y_norm, test_size=0.2)\n",
        "network12.fit(x_train, y_train)\n",
        "print(network12.score(x_train, y_train))\n",
        "print(network12.score(x_test, y_test))\n",
        "print()\n",
        "\n",
        "print(\"--------------- 35-65 ---------------\")\n",
        "x_train, x_test, y_train, y_test = train_test_split(x_norm, y_norm, test_size=0.35)\n",
        "network12.fit(x_train, y_train)\n",
        "print(network12.score(x_train, y_train))\n",
        "print(network12.score(x_test, y_test))\n",
        "print()\n",
        "\n",
        "print(\"--------------- 50-50 ---------------\")\n",
        "x_train, x_test, y_train, y_test = train_test_split(x_norm, y_norm, test_size=0.5)\n",
        "network12.fit(x_train, y_train)\n",
        "print(network12.score(x_train, y_train))\n",
        "print(network12.score(x_test, y_test))  \n",
        "print()\n",
        "\n",
        "print(\"--------------- 65-35 ---------------\")\n",
        "x_train, x_test, y_train, y_test = train_test_split(x_norm, y_norm, test_size=0.65)\n",
        "network12.fit(x_train, y_train)\n",
        "print(network12.score(x_train, y_train))\n",
        "print(network12.score(x_test, y_test))\n",
        "print()\n",
        "\n",
        "print(\"--------------- 80-20 ---------------\")\n",
        "x_train, x_test, y_train, y_test = train_test_split(x_norm, y_norm, test_size=0.8)\n",
        "network12.fit(x_train, y_train)\n",
        "print(network12.score(x_train, y_train))\n",
        "print(network12.score(x_test, y_test))"
      ],
      "metadata": {
        "colab": {
          "base_uri": "https://localhost:8080/"
        },
        "id": "yqFdvX_k-y5E",
        "outputId": "64782a6a-ca8a-4fd0-ad4a-80493abd77d0"
      },
      "id": "yqFdvX_k-y5E",
      "execution_count": null,
      "outputs": [
        {
          "output_type": "stream",
          "name": "stdout",
          "text": [
            "--------------- 20-80 ---------------\n",
            "0.7147521630690953\n",
            "0.7071467021766079\n",
            "\n",
            "--------------- 35-65 ---------------\n",
            "0.7234114021304714\n",
            "0.7161147224170218\n",
            "\n",
            "--------------- 50-50 ---------------\n",
            "0.6657494248851128\n",
            "0.6593242079128194\n",
            "\n",
            "--------------- 65-35 ---------------\n",
            "0.6833414505075275\n",
            "0.6844845041205943\n",
            "\n",
            "--------------- 80-20 ---------------\n",
            "0.630661268834529\n",
            "0.6055668873437895\n"
          ]
        }
      ]
    },
    {
      "cell_type": "code",
      "source": [],
      "metadata": {
        "id": "C5QyXoaXvWMs"
      },
      "id": "C5QyXoaXvWMs",
      "execution_count": null,
      "outputs": []
    }
  ],
  "metadata": {
    "kernelspec": {
      "display_name": "Python 3 (ipykernel)",
      "language": "python",
      "name": "python3"
    },
    "language_info": {
      "codemirror_mode": {
        "name": "ipython",
        "version": 3
      },
      "file_extension": ".py",
      "mimetype": "text/x-python",
      "name": "python",
      "nbconvert_exporter": "python",
      "pygments_lexer": "ipython3",
      "version": "3.10.4"
    },
    "colab": {
      "provenance": []
    }
  },
  "nbformat": 4,
  "nbformat_minor": 5
}